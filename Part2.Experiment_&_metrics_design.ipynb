{
 "cells": [
  {
   "cell_type": "markdown",
   "metadata": {},
   "source": [
    "# Ultimate Technologies Data Science Challenge"
   ]
  },
  {
   "cell_type": "markdown",
   "metadata": {},
   "source": [
    "Ultimate Technologies Inc. is an American worldwide online transportation network company that has disrupted the taxi and logistics industry. This challenge has been adapted from an actual Ultimate Inc. data science challenge."
   ]
  },
  {
   "cell_type": "markdown",
   "metadata": {},
   "source": [
    "## Part 2. Experiment and metrics design"
   ]
  },
  {
   "cell_type": "markdown",
   "metadata": {},
   "source": [
    "The neighboring cities of Gotham and Metropolis have complementary circadian rhythms:  \n",
    "- on weekdays, Ultimate Gotham is most active at night, and Ultimate Metropolis is most active during the day,  \n",
    "- on weekends, there is reasonable activity in both cities.  \n",
    "  \n",
    "However, a toll bridge, with a two-way toll, between the two cities causes driver-partners to tend to be exclusive to each city. The Ultimate managers of city operations for the two cities have proposed an experiment to **encourage driver-partners to be available in both cities, by reimbursing all toll costs**.  \n",
    "  \n",
    "**Question 1.** What would you choose as the key measure of success of this experiment in encouraging driver-partners to serve both cities, and why would you choose this metric?  \n",
    "  \n",
    "**Question 2.** Describe a practical experiment you would design to compare the effectiveness of the proposed change about the key measure of success. Please provide details on:  \n",
    "a. how you will implement the experiment  \n",
    "b. what statistical test(s) you will conduct to verify the significance of the observation  \n",
    "c. how you would interpret the results and provide recommendations to the city operations team along with any caveats.  "
   ]
  },
  {
   "cell_type": "markdown",
   "metadata": {},
   "source": [
    "### < Question 1 >"
   ]
  },
  {
   "cell_type": "markdown",
   "metadata": {},
   "source": [
    "I would choose **the rate of using the bridge (number of rides using the bridge/number of total rides)** as the metric of this experiment. If the rate increased, driver-partners would serve both cities more than before. Because the rate is **objective and quantitatively countable**, it would be appropriate.  "
   ]
  },
  {
   "cell_type": "markdown",
   "metadata": {},
   "source": [
    "### < Question 2 >"
   ]
  },
  {
   "cell_type": "markdown",
   "metadata": {},
   "source": [
    "a. A/B test. The driver-partners would be randomly divided into two groups. **50% of the driver-partners (A group) would work as usual, and 50% of the driver-partners (B group) would be told that all toll costs would be paid by the company.** The driver-partners of both groups would work for two weeks as the experiment. **The rate of using the bridge of each driver partner would be calculated, and the distributions of the rates of two groups would be compared.**  \n",
    "  \n",
    "b. **t-test**. The null hypothesis would be that there is no difference between the means of the rate of the two groups.  \n",
    "  \n",
    "c. If the null hypothesis is rejected, it would be said that the rate of using the bridge would increase when the company pays for toll costs. This means driver-partners serve both cities more when the company reimburses all toll costs. I would **recommend reimbursing all toll costs to promote drivers' coming and going between the cities**. However, **this does not secure that this change will increase the benefit** of the company. The total toll costs and the boost in income should be compared to confirm if the benefit has increased."
   ]
  },
  {
   "cell_type": "code",
   "execution_count": null,
   "metadata": {},
   "outputs": [],
   "source": []
  }
 ],
 "metadata": {
  "kernelspec": {
   "display_name": "unit17_2_2",
   "language": "python",
   "name": "unit17_2_2"
  },
  "language_info": {
   "codemirror_mode": {
    "name": "ipython",
    "version": 3
   },
   "file_extension": ".py",
   "mimetype": "text/x-python",
   "name": "python",
   "nbconvert_exporter": "python",
   "pygments_lexer": "ipython3",
   "version": "3.7.6"
  }
 },
 "nbformat": 4,
 "nbformat_minor": 4
}
